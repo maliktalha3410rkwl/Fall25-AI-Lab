{
 "cells": [
  {
   "cell_type": "code",
   "execution_count": 3,
   "metadata": {},
   "outputs": [
    {
     "name": "stdout",
     "output_type": "stream",
     "text": [
      "----------- \n",
      "1.writetask \n",
      "2.viewtask \n",
      "3.remove \n",
      "4.exit \n",
      "---------\n"
     ]
    },
    {
     "name": "stdout",
     "output_type": "stream",
     "text": [
      "write your task\n",
      "task added\n",
      "----------- \n",
      "1.writetask \n",
      "2.viewtask \n",
      "3.remove \n",
      "4.exit \n",
      "---------\n",
      "your tasks: ['talha']\n",
      "which task you want to remove enter number(1,2,3....)\n",
      "Removed: talha\n",
      "----------- \n",
      "1.writetask \n",
      "2.viewtask \n",
      "3.remove \n",
      "4.exit \n",
      "---------\n",
      "exiting.....\n"
     ]
    }
   ],
   "source": [
    "tasks = []\n",
    "\n",
    "def writetask():\n",
    "    print(\"write your task\")\n",
    "    write = input(\"enter your task: \")\n",
    "    tasks.append(write)\n",
    "    print(\"task added\")\n",
    "    \n",
    "def viewtask():\n",
    "    if tasks == []:\n",
    "        return \"you have no task\"\n",
    "    elif tasks != []:\n",
    "        return f\"your tasks: {tasks}\"\n",
    "    else:\n",
    "        return \"error\"\n",
    "\n",
    "def removetask():\n",
    "    print(viewtask()) \n",
    "    print(\"which task you want to remove enter number(1,2,3....)\")  \n",
    "    if tasks:\n",
    "        user = int(input(\"Enter task number to remove: \"))\n",
    "        if user > 0 and user <= len  (tasks):\n",
    "            removed = tasks.pop(user - 1)\n",
    "            print(f\"Removed: {removed}\")\n",
    "        else:\n",
    "            print(\"Invalid task number!\")\n",
    "            \n",
    "while True:              \n",
    "    print(\"-----------\",\n",
    "        \"\\n1.writetask\",\n",
    "          \"\\n2.viewtask\",\n",
    "          \"\\n3.remove\",\n",
    "          \"\\n4.exit\",\n",
    "          \"\\n---------\")\n",
    "    \n",
    "    choice = input(\"enter your choice: \")\n",
    "    \n",
    "    if choice == \"1\":\n",
    "        writetask()\n",
    "    elif choice == \"2\":\n",
    "        print(viewtask())\n",
    "    elif choice == \"3\":\n",
    "        removetask()\n",
    "    elif choice == \"4\":\n",
    "        print(\"exiting.....\")\n",
    "        break\n",
    "    else:\n",
    "        print(\"not valid\")\n"
   ]
  }
 ],
 "metadata": {
  "kernelspec": {
   "display_name": "Python 3",
   "language": "python",
   "name": "python3"
  },
  "language_info": {
   "codemirror_mode": {
    "name": "ipython",
    "version": 3
   },
   "file_extension": ".py",
   "mimetype": "text/x-python",
   "name": "python",
   "nbconvert_exporter": "python",
   "pygments_lexer": "ipython3",
   "version": "3.13.0"
  }
 },
 "nbformat": 4,
 "nbformat_minor": 2
}
