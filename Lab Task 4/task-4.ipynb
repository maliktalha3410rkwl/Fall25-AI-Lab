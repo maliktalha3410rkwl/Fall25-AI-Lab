{
 "cells": [
  {
   "cell_type": "code",
   "execution_count": 3,
   "metadata": {},
   "outputs": [
    {
     "name": "stdout",
     "output_type": "stream",
     "text": [
      " kuch bhi!,kuch,bhi? \n",
      "  kuch bhikuchbhi \n"
     ]
    }
   ],
   "source": [
    "user = \" kuch bhi!,kuch,bhi? \"\n",
    "new_user = \"\"\n",
    "\n",
    "for value in user:\n",
    "    print(value, end=\"\") \n",
    "\n",
    "    if value.isalpha():  \n",
    "        new_user += value\n",
    "    elif value == \" \":   \n",
    "        new_user += value\n",
    "\n",
    "print(\"\\n\", new_user)\n"
   ]
  },
  {
   "cell_type": "code",
   "execution_count": 74,
   "metadata": {},
   "outputs": [
    {
     "name": "stdout",
     "output_type": "stream",
     "text": [
      "Words sorted: am i talha\n",
      "Letters sorted: aaahilmt\n"
     ]
    }
   ],
   "source": [
    "user = \"i am talha\"\n",
    "\n",
    "words = user.split()\n",
    "sorted_words = []\n",
    "\n",
    "for i in range(len(words)):\n",
    "    smallest = min(words)\n",
    "    sorted_words.append(smallest)\n",
    "    words.remove(smallest)\n",
    "\n",
    "words_sorted = \" \".join(sorted_words)\n",
    "print(\"Words sorted:\", words_sorted)\n",
    "\n",
    "letters = []\n",
    "for char in user:\n",
    "    if char != \" \":\n",
    "        letters.append(char)\n",
    "\n",
    "n = len(letters)\n",
    "for i in range(n):\n",
    "    for j in range(n - i - 1):\n",
    "        if letters[j] > letters[j + 1]:\n",
    "            letters[j], letters[j + 1] = letters[j + 1], letters[j]\n",
    "\n",
    "letters_sorted = \"\".join(letters)\n",
    "print(\"Letters sorted:\", letters_sorted)\n",
    "\n",
    "\n"
   ]
  },
  {
   "cell_type": "code",
   "execution_count": 73,
   "metadata": {},
   "outputs": [
    {
     "name": "stdout",
     "output_type": "stream",
     "text": [
      "value :  5 8 9 3 8 0 4 1 1 5 4 5 7 2 8 9\n",
      "new value :  5 8 9 3 8 0 4 1 1 5 4 5 7 2 8\n",
      "last digit:  9\n",
      "reversed 8 2 7 5 4 5 1 1 4 0 8 3 9 8 5\n",
      "after multiplication and addition : 7 4 7 5 8 5 1 1 8 0 7 3 9 7 5\n",
      "sum :  77\n",
      "Card is invalid.\n"
     ]
    }
   ],
   "source": [
    "value = \"5 8 9 3 8 0 4 1 1 5 4 5 7 2 8 9\"\n",
    "parts = value.split()\n",
    "last_digit = int(parts[-1])\n",
    "new_value = \" \".join(parts[:-1])\n",
    "\n",
    "print(\"value : \", value)        \n",
    "print(\"new value : \",new_value) \n",
    "print(\"last digit: \",last_digit) \n",
    "reverse = new_value[::-1]\n",
    "print(\"reversed\",reverse)      \n",
    "result = []\n",
    "total = 0\n",
    "for val in new_value.split():\n",
    "    num = int(val)\n",
    "    if num % 2 == 0: \n",
    "        mul = num * 2 \n",
    "        if mul > 9:      \n",
    "            mul -= 9\n",
    "        result.append(str(mul))\n",
    "        total += mul\n",
    "    else:\n",
    "        result.append(val)\n",
    "        total += num\n",
    "\n",
    "\n",
    "result = \" \".join(result[::-1])\n",
    "print(\"after multiplication and addition :\",result)\n",
    "\n",
    "print(\"sum : \",total)\n",
    "\n",
    "if (total + last_digit) % 10 == 0:\n",
    "    print(\"Card is valid\")\n",
    "else:\n",
    "    print(\"Card is invalid.\")\n",
    "\n"
   ]
  }
 ],
 "metadata": {
  "kernelspec": {
   "display_name": "Python 3",
   "language": "python",
   "name": "python3"
  },
  "language_info": {
   "codemirror_mode": {
    "name": "ipython",
    "version": 3
   },
   "file_extension": ".py",
   "mimetype": "text/x-python",
   "name": "python",
   "nbconvert_exporter": "python",
   "pygments_lexer": "ipython3",
   "version": "3.13.0"
  }
 },
 "nbformat": 4,
 "nbformat_minor": 2
}
