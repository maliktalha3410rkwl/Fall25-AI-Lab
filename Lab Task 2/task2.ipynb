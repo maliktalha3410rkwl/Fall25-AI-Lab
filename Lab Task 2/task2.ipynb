{
 "cells": [
  {
   "cell_type": "code",
   "execution_count": 1,
   "metadata": {},
   "outputs": [
    {
     "name": "stdout",
     "output_type": "stream",
     "text": [
      "4\n",
      "tell me its fizz if divide by 3 or buzz if divide by 5 or if it divide by 3 and 5 then write fizzbuzz either none \n",
      "Correct! It is none\n",
      "5\n",
      "old number 4 + new number 5 = 9\n",
      "9\n",
      "tell me its fizz if divide by 3 or buzz if divide by 5 or if it divide by 3 and 5 then write fizzbuzz either none \n",
      "Correct! It is fizz\n",
      "30\n",
      "old number 9 + new number 30 = 39\n",
      "39\n",
      "tell me its fizz if divide by 3 or buzz if divide by 5 or if it divide by 3 and 5 then write fizzbuzz either none \n",
      "Wrong! Correct answer was: fizz\n"
     ]
    }
   ],
   "source": [
    "import random\n",
    "def buzfuz():\n",
    "    number = random.randint(1,100)\n",
    "    while True:\n",
    "        print(number)\n",
    "        print(\"tell me its fizz if divide by 3 or buzz if divide by 5 or if it divide by 3 and 5 then write fizzbuzz either none \" )\n",
    "        \n",
    "        \n",
    "        if number % 5 == 0 and number % 3 == 0:\n",
    "            if user == \"fizzbuzz\":\n",
    "                print(\"fizzbuzz\")\n",
    "        elif number % 3 == 0 :\n",
    "            correct  = \"fizz\"\n",
    "        elif number % 5 == 0:\n",
    "            correct  = \"buzz\"\n",
    "        else:\n",
    "            correct = \"none\"\n",
    "            \n",
    "            \n",
    "        user = input(\"buzz or fizz or fizzbuzz or none\")\n",
    "        if user == correct:\n",
    "            print(\"Correct! It is\", correct)\n",
    "        else:\n",
    "            print(\"Wrong! Correct answer was:\", correct)\n",
    "            break\n",
    "    \n",
    "    \n",
    "        new_number = random.randint(1,100)\n",
    "        print(new_number)\n",
    "        total = number + new_number\n",
    "        print(f\"old number {number} + new number {new_number} = {total}\")\n",
    "        number = total\n",
    "            \n",
    "        \n",
    "buzfuz()"
   ]
  },
  {
   "cell_type": "code",
   "execution_count": 1,
   "metadata": {},
   "outputs": [
    {
     "name": "stdout",
     "output_type": "stream",
     "text": [
      "as you wish\n",
      "total expense is : 1333500000\n",
      "average is : 190500000.0\n",
      "movie Pirates of the Caribbean: On Stranger Tides and budget greater than average is 379000000\n",
      "movie Avengers: Age of Ultron and budget greater than average is 365000000\n",
      "movie Avengers: Endgame and budget greater than average is 356000000\n",
      "movie Incredibles 2 and budget greater than average is 200000000\n",
      "\n",
      "Movie Pirates of the Caribbean: On Stranger Tides has budget 379000000, which is 188500000.0 higher than the average 190500000.0\n",
      "\n",
      "Movie Avengers: Age of Ultron has budget 365000000, which is 174500000.0 higher than the average 190500000.0\n",
      "\n",
      "Movie Avengers: Endgame has budget 356000000, which is 165500000.0 higher than the average 190500000.0\n",
      "\n",
      "Movie Incredibles 2 has budget 200000000, which is 9500000.0 higher than the average 190500000.0\n",
      "number of movie above average is : 4\n"
     ]
    }
   ],
   "source": [
    "\n",
    "movies = [\n",
    " (\"Eternal Sunshine of the Spotless Mind\", 20000000),\n",
    " (\"Memento\", 9000000),\n",
    " (\"Requiem for a Dream\", 4500000),\n",
    " (\"Pirates of the Caribbean: On Stranger Tides\", 379000000),\n",
    " (\"Avengers: Age of Ultron\", 365000000),\n",
    " (\"Avengers: Endgame\", 356000000),\n",
    " (\"Incredibles 2\", 200000000)\n",
    "]\n",
    "\n",
    "want = input(\"you want to add or not\")\n",
    "if want ==\"yes\":\n",
    "    num = int(input(\"how many movie you want to add\"))\n",
    "    for i in range(num):\n",
    "        movie = input(\"enter movie name\")\n",
    "        budget = int(input(\"enter budget\"))\n",
    "        movies.append((movie,budget))\n",
    "elif want == \"no\":\n",
    "    print(\"as you wish\")\n",
    "    exit()\n",
    "\n",
    "\n",
    "total_budget = 0\n",
    "for movie,budget in movies:  \n",
    "    total_budget = total_budget + budget\n",
    "    average = total_budget / len(movies)\n",
    "print(\"total expense is :\" ,total_budget)  \n",
    "print(\"average is :\",average)\n",
    "\n",
    "\n",
    "for movie,budget in movies:  \n",
    "   if budget > average:\n",
    "       print(f\"movie {movie} and budget greater than average is {budget}\")\n",
    "    \n",
    "count = 0\n",
    "for movie,budget in movies:  \n",
    "   if budget > average: \n",
    "        print(f\"Movie {movie} has budget {budget}, which is {budget - average} higher than the average {average}\")\n",
    "        count += 1\n",
    "        \n",
    "        \n",
    "print(f\"number of movie above average is : {count}\")\n",
    "\n",
    "\n"
   ]
  }
 ],
 "metadata": {
  "kernelspec": {
   "display_name": "Python 3",
   "language": "python",
   "name": "python3"
  },
  "language_info": {
   "codemirror_mode": {
    "name": "ipython",
    "version": 3
   },
   "file_extension": ".py",
   "mimetype": "text/x-python",
   "name": "python",
   "nbconvert_exporter": "python",
   "pygments_lexer": "ipython3",
   "version": "3.13.0"
  }
 },
 "nbformat": 4,
 "nbformat_minor": 2
}
