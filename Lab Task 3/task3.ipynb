{
 "cells": [
  {
   "cell_type": "code",
   "execution_count": 1,
   "metadata": {},
   "outputs": [
    {
     "name": "stdout",
     "output_type": "stream",
     "text": [
      "Living Room ,  20  , Action: Turn on the AC\n",
      "Drawing Room ,  22  , Action: Turn on the AC\n",
      "Kitchen ,       34  , Action: Turn on the AC\n",
      "ac was on\n",
      "Room: Drawing Room, Temp: 22, Action: Turn on the AC\n",
      "ac was on\n",
      "Room: Drawing Room, Temp: 22, Action: Turn on the AC\n"
     ]
    }
   ],
   "source": [
    "class SimpleReflexAgent:\n",
    "    def __init__(self, current_temp):\n",
    "        self.current_temp = current_temp\n",
    "        self.content = None\n",
    "        \n",
    "    def sensor (self,temp,room=None):\n",
    "        self.temp = temp\n",
    "        self.room = room\n",
    "        \n",
    "        \n",
    "    def performance(self):\n",
    "        if self.content is None:\n",
    "            with open(\"rooms.txt\", \"r\") as file:\n",
    "                self.content = file.read().strip()\n",
    "                print(self.content)\n",
    "        \n",
    "        found = False\n",
    "        for line in self.content.splitlines():\n",
    "            room_name, temp_str, ac = line.split(\",\")\n",
    "            room_name = room_name.strip()\n",
    "            temp_value = int(temp_str.strip())\n",
    "            ac = ac.strip()\n",
    "\n",
    "            if temp_value == self.temp:\n",
    "                print(\"ac was on\")\n",
    "                print(f\"Room: {room_name}, Temp: {temp_value}, {ac}\")\n",
    "                found = True\n",
    "        \n",
    "        if not found:\n",
    "            print(f\"No room found with temperature {self.temp}\")\n",
    "\n",
    "    def actuator(self):\n",
    "        self.performance()\n",
    "\n",
    "\n",
    "\n",
    "agent = SimpleReflexAgent(20)  \n",
    "agent.sensor(22,\"drawing room\")\n",
    "agent.actuator()\n",
    "agent.sensor(22)   \n",
    "agent.actuator()"
   ]
  }
 ],
 "metadata": {
  "kernelspec": {
   "display_name": "Python 3",
   "language": "python",
   "name": "python3"
  },
  "language_info": {
   "codemirror_mode": {
    "name": "ipython",
    "version": 3
   },
   "file_extension": ".py",
   "mimetype": "text/x-python",
   "name": "python",
   "nbconvert_exporter": "python",
   "pygments_lexer": "ipython3",
   "version": "3.13.0"
  }
 },
 "nbformat": 4,
 "nbformat_minor": 2
}
