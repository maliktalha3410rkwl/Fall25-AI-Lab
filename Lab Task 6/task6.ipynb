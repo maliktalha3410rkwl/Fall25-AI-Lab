{
 "cells": [
  {
   "cell_type": "code",
   "execution_count": 39,
   "metadata": {},
   "outputs": [
    {
     "name": "stdout",
     "output_type": "stream",
     "text": [
      "exist\n",
      "Visited order: ['A', 'B', 'C', 'D', 'E', 'F', 'G']\n"
     ]
    }
   ],
   "source": [
    "tree = {\n",
    "    \"A\": ['B', 'C'],\n",
    "    \"B\": ['D', 'E'],\n",
    "    \"C\": ['F'],\n",
    "    \"D\": [],\n",
    "    \"E\": [],\n",
    "    \"F\": ['G'],\n",
    "    \"G\": []\n",
    "}\n",
    "\n",
    "visited = []\n",
    "start = \"A\"\n",
    "goal = \"G\"\n",
    "\n",
    "def bfs(start, goal):\n",
    "    level = [start]  \n",
    "    \n",
    "    while level: \n",
    "        child = []      \n",
    "        for node in level:\n",
    "            if node not in visited:\n",
    "                visited.append(node)\n",
    "                \n",
    "                for i in tree[node]:\n",
    "                    child.append(i)\n",
    "                    \n",
    "                level = child\n",
    "                if node == goal:\n",
    "                    print(\"exist\")\n",
    "                    break\n",
    "          \n",
    "\n",
    "bfs(start, goal)\n",
    "print(\"Visited order:\", visited)\n"
   ]
  },
  {
   "cell_type": "code",
   "execution_count": 42,
   "metadata": {},
   "outputs": [
    {
     "name": "stdout",
     "output_type": "stream",
     "text": [
      "exist\n",
      "Visited order: ['A', 'B', 'C', 'D', 'E', 'F', 'G']\n"
     ]
    }
   ],
   "source": [
    "tree = {\n",
    "    \"A\": ['B', 'C'],\n",
    "    \"B\": ['D', 'E'],\n",
    "    \"C\": ['F'],\n",
    "    \"D\": [],\n",
    "    \"E\": [],\n",
    "    \"F\": ['G'],\n",
    "    \"G\": []\n",
    "}\n",
    "\n",
    "visited = []\n",
    "start = \"A\"\n",
    "goal = \"G\"\n",
    "\n",
    "def bfs(start, goal):\n",
    "    queue = [start]  \n",
    "    \n",
    "    while queue:\n",
    "        node = queue.pop(0)  \n",
    "          \n",
    "    \n",
    "        if node not in visited:\n",
    "            visited.append(node)\n",
    "                \n",
    "            for child in tree[node]:\n",
    "                queue.append(child)\n",
    "                    \n",
    "              \n",
    "            if node == goal:\n",
    "                print(\"exist\")\n",
    "                break\n",
    "          \n",
    "\n",
    "bfs(start, goal)\n",
    "print(\"Visited order:\", visited)\n"
   ]
  }
 ],
 "metadata": {
  "kernelspec": {
   "display_name": "Python 3",
   "language": "python",
   "name": "python3"
  },
  "language_info": {
   "codemirror_mode": {
    "name": "ipython",
    "version": 3
   },
   "file_extension": ".py",
   "mimetype": "text/x-python",
   "name": "python",
   "nbconvert_exporter": "python",
   "pygments_lexer": "ipython3",
   "version": "3.13.0"
  }
 },
 "nbformat": 4,
 "nbformat_minor": 2
}
