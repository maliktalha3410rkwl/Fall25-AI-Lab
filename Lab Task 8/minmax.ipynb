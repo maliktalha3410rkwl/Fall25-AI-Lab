{
 "cells": [
  {
   "cell_type": "code",
   "execution_count": 1,
   "metadata": {},
   "outputs": [
    {
     "data": {
      "text/plain": [
       "4"
      ]
     },
     "execution_count": 1,
     "metadata": {},
     "output_type": "execute_result"
    }
   ],
   "source": [
    "import math\n",
    "values  = [3,2,5,4,7,2,7,7]\n",
    "levels = math.log(len(values), 2)   \n",
    "def minmax(currdept,nodeindex,minturn,values,treedepth):\n",
    "    if currdept == treedepth:\n",
    "        return values[nodeindex]\n",
    "    if(minturn):\n",
    "        return min(minmax(currdept+1,nodeindex*2,False,values,treedepth),\n",
    "                   minmax(currdept+1,nodeindex*2+1,False,values,treedepth))\n",
    "    else:\n",
    "        return max(minmax(currdept+1,nodeindex*2,True,values,treedepth),\n",
    "                   minmax(currdept+1,nodeindex*2+1,True,values,treedepth))\n",
    "    \n",
    "\n",
    "minmax(0,0,True,values,levels)"
   ]
  }
 ],
 "metadata": {
  "kernelspec": {
   "display_name": "Python 3",
   "language": "python",
   "name": "python3"
  },
  "language_info": {
   "codemirror_mode": {
    "name": "ipython",
    "version": 3
   },
   "file_extension": ".py",
   "mimetype": "text/x-python",
   "name": "python",
   "nbconvert_exporter": "python",
   "pygments_lexer": "ipython3",
   "version": "3.13.0"
  }
 },
 "nbformat": 4,
 "nbformat_minor": 2
}
